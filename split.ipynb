{
 "cells": [
  {
   "cell_type": "code",
   "execution_count": null,
   "metadata": {
    "collapsed": true
   },
   "outputs": [],
   "source": [
    "import pandas as pd\n",
    "import pickle\n",
    "import subprocess\n",
    "import sys"
   ]
  },
  {
   "cell_type": "code",
   "execution_count": null,
   "metadata": {
    "collapsed": true
   },
   "outputs": [],
   "source": [
    "data_dir = 'D:Users/Kyle/UW/Graduate/courses/F2017/stat841/project/'"
   ]
  },
  {
   "cell_type": "code",
   "execution_count": null,
   "metadata": {
    "collapsed": true
   },
   "outputs": [],
   "source": [
    "user_logs = 'user_logs.csv'\n",
    "transaction = 'transaction.csv'\n",
    "\n",
    "out_file = 'out.txt'"
   ]
  },
  {
   "cell_type": "code",
   "execution_count": null,
   "metadata": {
    "collapsed": true
   },
   "outputs": [],
   "source": [
    "def get_num_line(file):\n",
    "    return ['cat', file, '|', 'wc', '-l']\n",
    "\n",
    "def get_header(file):\n",
    "    return ['cat', file, '|', 'head', '-1']\n",
    "\n",
    "def get_lines(file, start, end, out):\n",
    "    return ['sed', '-n', '{},{}p'.format(start, end), file, '>', out]"
   ]
  },
  {
   "cell_type": "code",
   "execution_count": null,
   "metadata": {},
   "outputs": [],
   "source": [
    "# split user_log\n",
    "\n",
    "file = data_dir + user_logs\n",
    "out, err = subprocess.Popen(get_num_line(file), stdout=subprocess.PIPE, stderr=subprocess.PIPE)\n",
    "file_header = list(pd.read_csv(out).columns.values.astype(str))\n",
    "\n",
    "\n",
    "start, size, part = 2, 1e8, 1\n",
    "while True:\n",
    "    cmd = get_lines(file, start, start+size-1, out_file)\n",
    "    out, err = subprocess.Popen(cmd, stdout=subprocess.PIPE, stderr=subprocess.PIPE,shell=True)\n",
    "    out, err = subprocess.Popen(out_file, stdout=subprocess.PIPE, stderr=subprocess.PIPE,shell=True)\n",
    "    if (out == 0):\n",
    "        break\n",
    "    sample = pd.read_csv(out_file, names=list(log_sample_1.columns.values))\n",
    "    pickle.dump(sample, open(data_dir + 'user_logs_' + part, \"wb\"))\n",
    "    start += size\n",
    "    part += 1"
   ]
  },
  {
   "cell_type": "code",
   "execution_count": null,
   "metadata": {
    "collapsed": true
   },
   "outputs": [],
   "source": [
    "# split user_log\n",
    "\n",
    "file = data_dir + transaction\n",
    "out, err = subprocess.Popen(get_num_line(file), stdout=subprocess.PIPE, stderr=subprocess.PIPE)\n",
    "file_header = list(pd.read_csv(out).columns.values.astype(str))\n",
    "\n",
    "\n",
    "start, size, part = 2, 1e8, 1\n",
    "while True:\n",
    "    cmd = get_lines(file, start, start+size-1, out_file)\n",
    "    out, err = subprocess.Popen(cmd, stdout=subprocess.PIPE, stderr=subprocess.PIPE,shell=True)\n",
    "    out, err = subprocess.Popen(out_file, stdout=subprocess.PIPE, stderr=subprocess.PIPE,shell=True)\n",
    "    if (out == 0):\n",
    "        break\n",
    "    sample = pd.read_csv(out_file, names=list(log_sample_1.columns.values))\n",
    "    pickle.dump(sample, open(data_dir + 'transaction_' + part, \"wb\"))\n",
    "    start += size\n",
    "    part += 1"
   ]
  }
 ],
 "metadata": {
  "kernelspec": {
   "display_name": "Python 3",
   "language": "python",
   "name": "python3"
  },
  "language_info": {
   "codemirror_mode": {
    "name": "ipython",
    "version": 3
   },
   "file_extension": ".py",
   "mimetype": "text/x-python",
   "name": "python",
   "nbconvert_exporter": "python",
   "pygments_lexer": "ipython3",
   "version": "3.5.3"
  }
 },
 "nbformat": 4,
 "nbformat_minor": 2
}
